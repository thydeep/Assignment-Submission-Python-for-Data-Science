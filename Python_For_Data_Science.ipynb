{
  "nbformat": 4,
  "nbformat_minor": 0,
  "metadata": {
    "colab": {
      "name": "Python For Data Science",
      "provenance": []
    },
    "kernelspec": {
      "name": "python3",
      "display_name": "Python 3"
    },
    "language_info": {
      "name": "python"
    }
  },
  "cells": [
    {
      "cell_type": "code",
      "metadata": {
        "colab": {
          "base_uri": "https://localhost:8080/"
        },
        "id": "AmurWFfJAGGR",
        "outputId": "b5c1adf3-a28d-4a47-8cd3-1692604ffd3b"
      },
      "source": [
        "principal = float(input('Enter the principle amount: '))\n",
        "time = float(input('Enter the time: '))\n",
        "rate = float(input('Enter the rate: '))\n",
        "simple_interest = (principal*time*rate)/100\n",
        "print(\"Simple interest is:\", simple_interest)"
      ],
      "execution_count": 1,
      "outputs": [
        {
          "output_type": "stream",
          "name": "stdout",
          "text": [
            "Enter the principle amount: 34.9\n",
            "Enter the time: 12\n",
            "Enter the rate: 45\n",
            "Simple interest is: 188.45999999999995\n"
          ]
        }
      ]
    }
  ]
}